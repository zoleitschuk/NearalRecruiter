{
 "cells": [
  {
   "cell_type": "code",
   "execution_count": 1,
   "metadata": {
    "collapsed": false
   },
   "outputs": [],
   "source": [
    "import pandas as pd\n",
    "\n",
    "db_location = \"data/job_hunter.db\"\n",
    "db_table_name = \"job_desc_library\""
   ]
  },
  {
   "cell_type": "code",
   "execution_count": 2,
   "metadata": {
    "collapsed": false
   },
   "outputs": [],
   "source": [
    "def feature_vect_from_text_matlab(script_location):\n",
    "    \n",
    "    import os\n",
    "    from oct2py import octave\n",
    "    \n",
    "    cwd = os.getcwd()\n",
    "    \n",
    "    octave.addpath(cwd + script_location)\n",
    "    features = octave.data_convert()\n",
    "    \n",
    "    return features"
   ]
  },
  {
   "cell_type": "code",
   "execution_count": 3,
   "metadata": {
    "collapsed": false
   },
   "outputs": [],
   "source": [
    "def train_NN_matlab(script_location, X_train, y_train_i, y_train_sm):\n",
    "    \n",
    "    import os\n",
    "    from oct2py import octave\n",
    "    \n",
    "    cwd = os.getcwd()\n",
    "    \n",
    "    octave.addpath(cwd + script_location)\n",
    "    theta1_i, theta2_i, theta1_sm, theta2_sm = octave.main_NN(X_train, y_train_i, y_train_sm)\n",
    "    \n",
    "    return (theta1_i, theta2_i, theta1_sm, theta2_sm)"
   ]
  },
  {
   "cell_type": "code",
   "execution_count": 6,
   "metadata": {
    "collapsed": true
   },
   "outputs": [],
   "source": [
    "def load_jobs_from_html(job_path):\n",
    "    \n",
    "    from bs4 import BeautifulSoup\n",
    "\n",
    "    # Use Beautiful soup constructor to parse through the html and build a more organized data structure.    \n",
    "    try:\n",
    "        html = open(job_path, encoding=\"utf8\")\n",
    "    except:\n",
    "        raise\n",
    "    else:\n",
    "        html = open(job_path)\n",
    "    \n",
    "    soup = BeautifulSoup(html.read(), 'html.parser')\n",
    "    \n",
    "    html_list = []\n",
    "    \n",
    "    for child in soup.children:\n",
    "        if(child.name):\n",
    "            html_list.append((str(child),child.get_text()))\n",
    "    \n",
    "    return pd.DataFrame(html_list, columns=['job_desc_html', 'job_desc_text'])"
   ]
  },
  {
   "cell_type": "code",
   "execution_count": 7,
   "metadata": {
    "collapsed": true
   },
   "outputs": [],
   "source": [
    "def ndarray_to_str_list(feature_matrix):\n",
    "    output_list = []\n",
    "    \n",
    "    for element in feature_matrix:\n",
    "        dummy_str = ''\n",
    "        for num in element:\n",
    "            dummy_str = dummy_str + str(int(num))\n",
    "        output_list.append(dummy_str)\n",
    "    \n",
    "    return output_list"
   ]
  },
  {
   "cell_type": "code",
   "execution_count": 8,
   "metadata": {
    "collapsed": true
   },
   "outputs": [],
   "source": [
    "def str_list_to_ndarray(df_features):\n",
    "    import numpy as np\n",
    "    feature_matrix_list = []\n",
    "    \n",
    "    for i in df_features.index:\n",
    "        feature_int_list = []\n",
    "        \n",
    "        for feature_str_element in list(df_features.loc[i, 'job_desc_word_occurance_feature_vector']):\n",
    "            feature_int_list.append(int(feature_str_element))\n",
    "        \n",
    "        feature_matrix_list.append(np.array(feature_int_list))\n",
    "        \n",
    "    df_features['job_desc_word_occurance_feature_vector'] = feature_matrix_list"
   ]
  },
  {
   "cell_type": "code",
   "execution_count": 10,
   "metadata": {
    "collapsed": false
   },
   "outputs": [],
   "source": [
    "def new_jobs_to_lib():\n",
    "    file_path = input('Please enter the file path of the file containing'\n",
    "                       ' the html you would like to add to the library.\\n')\n",
    "    import os\n",
    "    cwd = os.getcwd()\n",
    "        \n",
    "    # Load new jobs from html file.\n",
    "    new_jobs_df = load_jobs_from_html(file_path)\n",
    "    \n",
    "    rel_JSON_output_path = '\\\\matlab_scripts\\\\feature_vector\\\\new_job_desc.JSON'\n",
    "    new_jobs_df['job_desc_text'].to_json(cwd + rel_JSON_output_path)\n",
    "    \n",
    "    script_location = '\\\\matlab_scripts\\\\feature_vector'\n",
    "    feature_matrix = feature_vect_from_text_matlab(script_location)\n",
    "    \n",
    "    new_jobs_df['job_desc_word_occurance_feature_vector'] = ndarray_to_str_list(feature_matrix)\n",
    "    new_jobs_df['user_interest_rating'] = 0\n",
    "    new_jobs_df['user_skills_match_rating'] = 0\n",
    "    new_jobs_df['predicted_interest_rating'] = 0\n",
    "    new_jobs_df['predicted_skills_match_rating'] = 0\n",
    "    new_jobs_df['interest_score'] = 0\n",
    "    new_jobs_df['skills_match_score'] = 0\n",
    "    new_jobs_df['overall_score'] = 0\n",
    "\n",
    "    company = input('Please enter the company name for all job descriptions in file. If multiple companies hit the <enter> key to skip this step.')\n",
    "    new_jobs_df['company'] = company\n",
    "    \n",
    "    import python_scripts.job_data as jd\n",
    "    job_data_df = jd.get_job_data(new_jobs_df)\n",
    "    new_jobs_df = pd.concat([new_jobs_df, job_data_df], axis=1)\n",
    "    \n",
    "    new_jobs_df['other_data'] = ''\n",
    "    \n",
    "    import python_scripts.sql_pandas as sql_pandas\n",
    "    sqlite_file = db_location\n",
    "    table_name = db_table_name\n",
    "    sql_pandas.append_df_to_sql(new_jobs_df, sqlite_file, table_name)\n",
    "    "
   ]
  },
  {
   "cell_type": "code",
   "execution_count": 12,
   "metadata": {
    "collapsed": true
   },
   "outputs": [],
   "source": [
    "def permutate_dataframe(input_dataframe):\n",
    "    import numpy as np\n",
    "    \n",
    "    return input_dataframe.reindex(np.random.permutation(input_dataframe.index))"
   ]
  },
  {
   "cell_type": "code",
   "execution_count": 1,
   "metadata": {
    "collapsed": true
   },
   "outputs": [],
   "source": [
    "def manually_rate_jobs():\n",
    "    number_to_rate = int(input('How many jobs would you like to rate?\\n'))\n",
    "    \n",
    "    # Load data into dataframe from db\n",
    "    import python_scripts.sql_pandas as sql_pandas\n",
    "    sqlite_file = db_location\n",
    "    table_name = db_table_name\n",
    "    all_job_desc_df = sql_pandas.df_from_sql(sqlite_file, table_name)\n",
    "    \n",
    "    # Remove job_desc that have already been rated\n",
    "    un_categorized_job_desc_df = all_job_desc_df[all_job_desc_df['user_interest_rating'] == 0]\n",
    "    \n",
    "    # Randomly select a subset of unrated job descriptions of size number_to_categorize\n",
    "    job_desc_to_rate_df = permutate_dataframe(un_categorized_job_desc_df)[0 : number_to_rate]\n",
    "    \n",
    "    # For each job in subset have user rate based on level of interest and match to skills\n",
    "    for i in job_desc_to_rate_df.index:\n",
    "        \n",
    "        print(all_job_desc_df.loc[i, 'job_desc_text'].encode(encoding='UTF-8',errors='ignore'))\n",
    "        \n",
    "        print('\\n**********************************************************************')\n",
    "        \n",
    "        input_request_user_interest_rating = 'On a scale from 1 to 5, how interesting does this job sound?\\n'\n",
    "        all_job_desc_df.loc[i, 'user_interest_rating'] = int(input(input_request_user_interest_rating))\n",
    "        \n",
    "        input_request_user_skills_match_rating = 'On a scale from 1 to 5, how well does your skill set match the skills required for this position?\\n'\n",
    "        all_job_desc_df.loc[i, 'user_skills_match_rating'] = int(input(input_request_user_skills_match_rating))\n",
    "        \n",
    "        print('**********************************************************************\\n')\n",
    "    \n",
    "    # Update the database with the new data.\n",
    "    sqlite_file = db_location\n",
    "    table_name = db_table_name\n",
    "    sql_pandas.replace_db_with_df(all_job_desc_df, sqlite_file, table_name)    \n"
   ]
  },
  {
   "cell_type": "code",
   "execution_count": 14,
   "metadata": {
    "collapsed": true
   },
   "outputs": [],
   "source": [
    "def manually_rank_jobs():\n",
    "    # category_to_rank = prompt('What category would you like to rank?\\n')\n",
    "    print(\"Feature coming soon!\")"
   ]
  },
  {
   "cell_type": "code",
   "execution_count": 15,
   "metadata": {
    "collapsed": true
   },
   "outputs": [],
   "source": [
    "def get_predictions_matlab(script_location, X, Theta1, Theta2):\n",
    "    \n",
    "    import os\n",
    "    from oct2py import octave\n",
    "    \n",
    "    cwd = os.getcwd()\n",
    "    \n",
    "    octave.addpath(cwd + script_location)\n",
    "    predict_descrete, predict_continu = octave.predict(Theta1, Theta2, X)\n",
    "    \n",
    "    return (predict_descrete, predict_continu)"
   ]
  },
  {
   "cell_type": "code",
   "execution_count": 16,
   "metadata": {
    "collapsed": true
   },
   "outputs": [],
   "source": [
    "def train_NN():\n",
    "    print('Begining to train NN...')\n",
    "    \n",
    "    # Load data into dataframe from db\n",
    "    import python_scripts.sql_pandas as sql_pandas\n",
    "    sqlite_file = db_location\n",
    "    table_name = db_table_name\n",
    "    all_job_desc_df = sql_pandas.df_from_sql(sqlite_file, table_name)\n",
    "    \n",
    "    # Convert job_desc_word_occurance_feature_vector back to ndarray\n",
    "    str_list_to_ndarray(all_job_desc_df)\n",
    "    \n",
    "    # Remove job_desc that have not been rated by the user and randomize the order\n",
    "    all_rated_job_desc_df = permutate_dataframe(all_job_desc_df[all_job_desc_df['user_interest_rating'] != 0])\n",
    "    \n",
    "    # select a reasonable set of manually categorized jobs\n",
    "    rows_in_df = len(all_rated_job_desc_df)\n",
    "    if(rows_in_df <= 500):\n",
    "        training_set_df = all_rated_job_desc_df\n",
    "    else:\n",
    "        training_set_df = all_rated_job_desc_df[0 : 500]\n",
    "    \n",
    "    # manipulate data into correct shape\n",
    "    import numpy as np\n",
    "    \n",
    "    X = np.array(all_job_desc_df['job_desc_word_occurance_feature_vector'])\n",
    "    X_training = np.array(training_set_df['job_desc_word_occurance_feature_vector'])\n",
    "    y_training_i = np.array(training_set_df['user_interest_rating'])\n",
    "    y_training_sm = np.array(training_set_df['user_skills_match_rating'])\n",
    "    \n",
    "    # pass data into NN and train\n",
    "    script_location = '\\\\matlab_scripts\\\\categorization_NN'\n",
    "    Theta1_i, Theta2_i, Theta1_sm, Theta2_sm = train_NN_matlab(script_location, X_training, y_training_i, y_training_sm)\n",
    "    \n",
    "    # run prediction on all jobs in db\n",
    "    print('Training complete. Trained results will now be used to make predictions on all job descriptions in the library.\\n')\n",
    "    script_location = '\\\\matlab_scripts\\\\categorization_NN'\n",
    "    predict_i, predict_i_continu = get_predictions_matlab(script_location, X, Theta1_i, Theta2_i)\n",
    "    predict_sm, predict_sm_continu = get_predictions_matlab(script_location, X, Theta1_sm, Theta2_sm)\n",
    "        \n",
    "    # Update df with predictions\n",
    "    all_job_desc_df['predicted_interest_rating'] = pd.DataFrame(predict_i)[0]\n",
    "    all_job_desc_df['predicted_skills_match_rating'] = pd.DataFrame(predict_sm)[0]\n",
    "    all_job_desc_df['interest_score'] = pd.DataFrame(predict_i_continu)[0]\n",
    "    all_job_desc_df['skills_match_score'] = pd.DataFrame(predict_sm_continu)[0]\n",
    "    \n",
    "    # Update overall_score field.\n",
    "    all_job_desc_df['overall_score'] = 2 * ((all_job_desc_df['interest_score']/5) * (all_job_desc_df['skills_match_score']/5)) / ((all_job_desc_df['interest_score']/5) + (all_job_desc_df['skills_match_score']/5))\n",
    "    \n",
    "    # Update the database with the new data.\n",
    "    all_job_desc_df['job_desc_word_occurance_feature_vector'] = ndarray_to_str_list(all_job_desc_df['job_desc_word_occurance_feature_vector'])\n",
    "    sqlite_file = db_location\n",
    "    table_name = db_table_name\n",
    "    sql_pandas.replace_db_with_df(all_job_desc_df, sqlite_file, table_name) \n",
    "    \n",
    "    return all_job_desc_df"
   ]
  },
  {
   "cell_type": "code",
   "execution_count": 20,
   "metadata": {
    "collapsed": true
   },
   "outputs": [],
   "source": [
    "def export_jobs():\n",
    "    print('Export functionality coming soon!')\n",
    "    "
   ]
  },
  {
   "cell_type": "code",
   "execution_count": 21,
   "metadata": {
    "collapsed": false
   },
   "outputs": [],
   "source": [
    "def view_job_results():\n",
    "    \n",
    "    import python_scripts.custom_charts as custom_charts\n",
    "    import python_scripts.sql_pandas as sql_pandas\n",
    "    \n",
    "    results_nav_message = (\"\\nResults Navigation. Actions available:\\n\"\n",
    "                        \"*************************************\\n\"\n",
    "                        \"Input Value:\\t\\tDescription:\\n\"\n",
    "                        \"--------------------------------------\\n\"\n",
    "                        \"a\\t-\\t View job chart.\\n\"\n",
    "                        \"b\\t-\\t Export jobs based on cutoff criteria.\\n\"\n",
    "                        \"back\\t-\\t Return to main navigation menu.\\n\"\n",
    "                       )\n",
    "    invalid_results_nav_message = (\"\\n\"\n",
    "                                \"Sorry I did not understand. Please try again.\\n\"\n",
    "                                \"vvvvvvvvvvvvvvvvvvvvvvvvvvvvvvvvvvvvvvvvvvvvvvvvv\\n\"\n",
    "                                \"--------------------------------------------------\"\n",
    "                                )\n",
    "    \n",
    "    # Load data into dataframe from db\n",
    "    sqlite_file = db_location\n",
    "    table_name = db_table_name\n",
    "    all_job_desc_df = sql_pandas.df_from_sql(sqlite_file, table_name)\n",
    "    \n",
    "    results_nav = ''\n",
    "    \n",
    "    while(results_nav != 'back'):\n",
    "        \n",
    "        print(results_nav_message)\n",
    "        \n",
    "        results_nav = input('What would you like to do?')\n",
    "        \n",
    "        # View job chart.\n",
    "        if(results_nav == 'a'):\n",
    "            \n",
    "            x_header = 'skills_match_score'\n",
    "            y_header = 'interest_score'\n",
    "            color_by_header = 'company'\n",
    "            labels_header = None\n",
    "            output_path = \"job_hunt_scatter.html\"\n",
    "            \n",
    "            custom_charts.create_job_chart(all_job_desc_df, x_header, y_header, color_by_header, labels_header, output_path)\n",
    "        \n",
    "        # Export jobs based on cutoff criteria.\n",
    "        elif(results_nav == 'b'):\n",
    "            export_jobs()\n",
    "        \n",
    "        elif(results_nav =='back'):\n",
    "            print('______________________________________________________')\n",
    "        # User feedback for entering invalid text into input request.\n",
    "        else:\n",
    "            print(invalid_results_nav_message)"
   ]
  },
  {
   "cell_type": "code",
   "execution_count": 22,
   "metadata": {
    "collapsed": false
   },
   "outputs": [],
   "source": [
    "def clear_all_ratings():\n",
    "    \n",
    "    # Load data into dataframe from db\n",
    "    import python_scripts.sql_pandas as sql_pandas\n",
    "    sqlite_file = db_location\n",
    "    table_name = db_table_name\n",
    "    all_job_desc_df = sql_pandas.df_from_sql(sqlite_file, table_name)\n",
    "    \n",
    "    all_job_desc_df['user_interest_rating'] = '0'\n",
    "    all_job_desc_df['user_skills_match_rating'] = '0'\n",
    "    \n",
    "    # Update the database with the new data.\n",
    "    sql_pandas.replace_db_with_df(all_job_desc_df, sqlite_file, table_name)\n",
    "    "
   ]
  },
  {
   "cell_type": "code",
   "execution_count": 23,
   "metadata": {
    "collapsed": false
   },
   "outputs": [],
   "source": [
    "def main_job_hunter():\n",
    "    #*********************************************************************\n",
    "    # Set up strings for text output to user during program navigation.\n",
    "    #*********************************************************************\n",
    "    welcome_message = (\"=============================================\\n\"\n",
    "                       \"WELCOME!\\n\"\n",
    "                       \"=============================================\"\n",
    "                       )\n",
    "    \n",
    "    farewell_message = (\"=============================================\\n\"\n",
    "                       \"GOODBYE!\\n\"\n",
    "                       \"=============================================\"\n",
    "                       )\n",
    "    \n",
    "    main_nav_message = (\"\\nMain Navigation. Actions available:\\n\"\n",
    "                        \"*************************************\\n\"\n",
    "                        \"Input Value:\\t\\tDescription:\\n\"\n",
    "                        \"--------------------------------------\\n\"\n",
    "                        \"1\\t-\\t Add new job descriptions to the library.\\n\"\n",
    "                        \"2\\t-\\t Manually rate job descriptions. This data is used to train NN, and\\n\"\n",
    "                            \"\\t\\tprovide accurate recomendations.\\n\"\n",
    "                        \"3\\t-\\t Navigate to the manual ranking menu. (Has no effect on NN training.)\\n\"\n",
    "                        \"4\\t-\\t Run neural network training algorithm to update recomendations.\\n\"\n",
    "                        \"5\\t-\\t Navigate to Export/View Results menu.\\n\"\n",
    "                        \"reset\\t-\\t Removes the user entered ratings for all job descriptions.\\n\"\n",
    "                        \"exit\\t-\\t Exits the program.\\n\"\n",
    "                       )\n",
    "\n",
    "    invalid_main_nav_message = (\"\\n\"\n",
    "                                \"Sorry I did not understand. Returning you to main navigation.\\n\"\n",
    "                                \"vvvvvvvvvvvvvvvvvvvvvvvvvvvvvvvvvvvvvvvvvvvvvvvvv\\n\"\n",
    "                                \"--------------------------------------------------\"\n",
    "                                )\n",
    "    \n",
    "    #*********************************************************************\n",
    "    # Functional content. Run program and request user for input.\n",
    "    #*********************************************************************\n",
    "    print(welcome_message)\n",
    "    \n",
    "    main_nav = ''\n",
    "    while(main_nav != 'exit'):\n",
    "        \n",
    "        print(main_nav_message)\n",
    "        \n",
    "        main_nav = input('What action would you like to take?\\n')\n",
    "        \n",
    "        if(main_nav == 'exit'):\n",
    "            print(farewell_message)\n",
    "        \n",
    "        # Remove all user entered job ratings\n",
    "        elif(main_nav == 'reset'):\n",
    "            clear_all_ratings()\n",
    "        \n",
    "        # Input new jobs to the library.\n",
    "        elif(main_nav == '1'):\n",
    "            new_jobs_to_lib()\n",
    "        \n",
    "        # Manually rate jobs.\n",
    "        elif(main_nav == '2'):\n",
    "            manually_rate_jobs()\n",
    "        \n",
    "        # Manually rank jobs.\n",
    "        elif(main_nav == '3'):\n",
    "            manually_rank_jobs()\n",
    "        \n",
    "        # Run training algorithm.\n",
    "        elif(main_nav == '4'):\n",
    "            train_NN()\n",
    "        \n",
    "        # View/export results based on currently stored job library and trained thetas.\n",
    "        elif(main_nav == '5'):\n",
    "            view_job_results()\n",
    "        \n",
    "        # User feedback for entering invalid text into input request.\n",
    "        else:\n",
    "            print(invalid_main_nav_message)"
   ]
  },
  {
   "cell_type": "code",
   "execution_count": 24,
   "metadata": {
    "collapsed": false,
    "scrolled": true
   },
   "outputs": [
    {
     "name": "stdout",
     "output_type": "stream",
     "text": [
      "=============================================\n",
      "WELCOME!\n",
      "=============================================\n",
      "\n",
      "Main Navigation. Actions available:\n",
      "*************************************\n",
      "Input Value:\t\tDescription:\n",
      "--------------------------------------\n",
      "1\t-\t Add new job descriptions to the library.\n",
      "2\t-\t Manually rate job descriptions. This data is used to train NN, and\n",
      "\t\tprovide accurate recomendations.\n",
      "3\t-\t Navigate to the manual ranking menu. (Has no effect on NN training.)\n",
      "4\t-\t Run neural network training algorithm to update recomendations.\n",
      "5\t-\t Navigate to Export/View Results menu.\n",
      "reset\t-\t Removes the user entered ratings for all job descriptions.\n",
      "exit\t-\t Exits the program.\n",
      "\n",
      "What action would you like to take?\n",
      "1\n",
      "Please enter the file path of the file containing the html you would like to add to the library.\n",
      "C:\\Users\\Zach\\OneDrive\\__Code\\Projects\\Job Hunter\\data\\input_data\\archive\\temp.html\n",
      "Please enter the company name for all job descriptions in file. If multiple companies hit the <enter> key to skip this step.Apple\n",
      "\n",
      "Main Navigation. Actions available:\n",
      "*************************************\n",
      "Input Value:\t\tDescription:\n",
      "--------------------------------------\n",
      "1\t-\t Add new job descriptions to the library.\n",
      "2\t-\t Manually rate job descriptions. This data is used to train NN, and\n",
      "\t\tprovide accurate recomendations.\n",
      "3\t-\t Navigate to the manual ranking menu. (Has no effect on NN training.)\n",
      "4\t-\t Run neural network training algorithm to update recomendations.\n",
      "5\t-\t Navigate to Export/View Results menu.\n",
      "reset\t-\t Removes the user entered ratings for all job descriptions.\n",
      "exit\t-\t Exits the program.\n",
      "\n",
      "What action would you like to take?\n",
      "exit\n",
      "=============================================\n",
      "GOODBYE!\n",
      "=============================================\n"
     ]
    }
   ],
   "source": [
    "if __name__ == \"__main__\":\n",
    "    # Execute main content.\n",
    "    main_job_hunter()"
   ]
  },
  {
   "cell_type": "code",
   "execution_count": null,
   "metadata": {
    "collapsed": true
   },
   "outputs": [],
   "source": []
  }
 ],
 "metadata": {
  "anaconda-cloud": {},
  "kernelspec": {
   "display_name": "Python [default]",
   "language": "python",
   "name": "python3"
  },
  "language_info": {
   "codemirror_mode": {
    "name": "ipython",
    "version": 3
   },
   "file_extension": ".py",
   "mimetype": "text/x-python",
   "name": "python",
   "nbconvert_exporter": "python",
   "pygments_lexer": "ipython3",
   "version": "3.4.4"
  }
 },
 "nbformat": 4,
 "nbformat_minor": 0
}
