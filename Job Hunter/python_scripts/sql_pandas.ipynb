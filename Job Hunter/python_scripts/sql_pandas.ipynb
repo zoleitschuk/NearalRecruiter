{
 "cells": [
  {
   "cell_type": "code",
   "execution_count": 1,
   "metadata": {
    "collapsed": true
   },
   "outputs": [],
   "source": [
    "def append_df_to_sql(df_to_append, sqlite_file, table_name):\n",
    "    \n",
    "    from sqlalchemy import create_engine\n",
    "    \n",
    "    # Create your connection.\n",
    "    engine = create_engine('sqlite:///' + sqlite_file)\n",
    "    df_to_append.to_sql(name=table_name, con=engine, if_exists='append', index=False)"
   ]
  },
  {
   "cell_type": "code",
   "execution_count": 2,
   "metadata": {
    "collapsed": true
   },
   "outputs": [],
   "source": [
    "def replace_db_with_df(df_to_append, sqlite_file, table_name):\n",
    "    \n",
    "    from sqlalchemy import create_engine\n",
    "    \n",
    "    # Create your connection.\n",
    "    engine = create_engine('sqlite:///' + sqlite_file)\n",
    "    df_to_append.to_sql(name=table_name, con=engine, if_exists='replace', index=False)"
   ]
  },
  {
   "cell_type": "code",
   "execution_count": 3,
   "metadata": {
    "collapsed": true
   },
   "outputs": [],
   "source": [
    "def df_from_sql(sqlite_file, table_name):\n",
    "    import pandas as pd\n",
    "    from sqlalchemy import create_engine\n",
    "    \n",
    "    # Create your connection.\n",
    "    engine = create_engine('sqlite:///' + sqlite_file)\n",
    "    \n",
    "    return pd.read_sql_table(table_name=table_name, con=engine)"
   ]
  },
  {
   "cell_type": "code",
   "execution_count": null,
   "metadata": {
    "collapsed": true
   },
   "outputs": [],
   "source": [
    "if __name__ == \"__main__\":\n",
    "    # Execute main content.\n",
    "    print(\"You are trying to run sql_pandas.py on its own. sql_pandas.py is not currently set up to work this way.\")"
   ]
  }
 ],
 "metadata": {
  "kernelspec": {
   "display_name": "Python [default]",
   "language": "python",
   "name": "python3"
  },
  "language_info": {
   "codemirror_mode": {
    "name": "ipython",
    "version": 3
   },
   "file_extension": ".py",
   "mimetype": "text/x-python",
   "name": "python",
   "nbconvert_exporter": "python",
   "pygments_lexer": "ipython3",
   "version": "3.4.4"
  }
 },
 "nbformat": 4,
 "nbformat_minor": 0
}
