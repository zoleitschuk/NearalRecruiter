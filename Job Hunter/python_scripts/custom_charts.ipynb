{
 "cells": [
  {
   "cell_type": "code",
   "execution_count": null,
   "metadata": {
    "collapsed": true
   },
   "outputs": [],
   "source": [
    "def create_color_dict(color_keys):\n",
    "    \n",
    "    color_dict = {}\n",
    "    color_counter = 0\n",
    "    \n",
    "    for key in color_keys:\n",
    "        if (color_counter == 0):\n",
    "            color_dict[key] = 'blue'\n",
    "        elif(color_counter == 1):\n",
    "            color_dict[key] = 'red'\n",
    "        elif(color_counter == 2):\n",
    "            color_dict[key] = 'green'\n",
    "        elif(color_counter == 3):\n",
    "            color_dict[key] = 'orange'\n",
    "        elif(color_counter == 4):\n",
    "            color_dict[key] = 'purple'\n",
    "        else:\n",
    "            color_dict[key] = 'grey'\n",
    "        \n",
    "        color_counter = color_counter +1\n",
    "    \n",
    "    return color_dict"
   ]
  },
  {
   "cell_type": "code",
   "execution_count": null,
   "metadata": {
    "collapsed": true
   },
   "outputs": [],
   "source": [
    "def create_color_list(color_by_pdSeries):\n",
    "    \n",
    "    unique_items = color_by_pdSeries.unique()\n",
    "    color_dict = create_color_dict(unique_items)\n",
    "    \n",
    "    color_list = []\n",
    "    for item in color_by_pdSeries:\n",
    "        color_list.append(color_dict[item])\n",
    "    \n",
    "    return color_list"
   ]
  },
  {
   "cell_type": "code",
   "execution_count": 1,
   "metadata": {
    "collapsed": true
   },
   "outputs": [],
   "source": [
    "def create_job_chart(plot_data_df, x_data_header, y_data_header, color_by_header, data_labels_header=None,\n",
    "                    output_file_path='Interest_vs_Qualifications_scatter.html'):  \n",
    "    \n",
    "    from bokeh.plotting import figure, output_file, show\n",
    "    from bokeh.models import ColumnDataSource, LabelSet, HoverTool, Title\n",
    "    from bokeh.layouts import row, widgetbox\n",
    "    from bokeh.models.widgets import DataTable, TableColumn\n",
    "    \n",
    "    plot_data_df['dot_colors'] = create_color_list(plot_data_df[color_by_header])\n",
    "    \n",
    "    # Create a ColumnDataSource object out of the plot_df dataframe\n",
    "    source = ColumnDataSource(plot_data_df)\n",
    "    \n",
    "    hover = HoverTool(tooltips=[\n",
    "            (\"Job Title: \", \"@job_title\"),\n",
    "            (\"Ref #: \", \"@ref_number\"),\n",
    "            (\"Date Posted: \", \"@date_posted\"),\n",
    "            (\"Company: \", \"@company\"),\n",
    "            (\"Location: \", \"@location\"),\n",
    "        ])\n",
    "    Tools = [hover,'box_zoom,box_select,resize,reset,save,wheel_zoom']\n",
    "    \n",
    "    p = figure(plot_width=700, plot_height=700, tools=Tools)\n",
    "    p.add_layout(Title(text=\"Job Posting Compatability Scatter Plot\", align=\"center\"), \"above\")\n",
    "    p.add_layout(Title(text=\"Interest Exhibitted in the Job Posting\", align=\"center\"), \"left\")\n",
    "    p.add_layout(Title(text=\"Compatability of Job Requirements and Skills\", align=\"center\"), \"below\")\n",
    "    \n",
    "    # create scatter plot\n",
    "    p.scatter(x=x_data_header, y=y_data_header, color='dot_colors', size=5, source=source)\n",
    "    \n",
    "    if(data_labels_header != None):\n",
    "        labels = LabelSet(x=x_data_header, y=y_data_header, text=data_labels_header, text_font_size='1', level='glyph',\n",
    "                      x_offset=-25, y_offset=5, source=source, render_mode='canvas')\n",
    "        p.add_layout(labels)\n",
    "    \n",
    "    columns = [\n",
    "        TableColumn(field='date_posted', title='Date Posted'),\n",
    "        TableColumn(field='job_title', title='Job Title'),\n",
    "        TableColumn(field='ref_number', title='Reference Number'),\n",
    "        TableColumn(field='company', title='Company'),\n",
    "        TableColumn(field='location', title='Location'),\n",
    "        TableColumn(field='overall_score', title='Compatability Score'),\n",
    "    ]\n",
    "    \n",
    "    data_table = DataTable(source=source, columns=columns, width=650, height=700)\n",
    "    \n",
    "    output_file(output_file_path)\n",
    "    show(row(p, widgetbox(data_table)))\n",
    "    "
   ]
  },
  {
   "cell_type": "code",
   "execution_count": 2,
   "metadata": {
    "collapsed": false
   },
   "outputs": [
    {
     "name": "stdout",
     "output_type": "stream",
     "text": [
      "You are trying to run custom_charts.py on its own. This action is not currently supported, sorry for the inconvenience.\n"
     ]
    }
   ],
   "source": [
    "if __name__ == \"__main__\":\n",
    "    # Execute main content.\n",
    "    print(\"You are trying to run custom_charts.py on its own. This action is not currently supported, sorry for the inconvenience.\")"
   ]
  },
  {
   "cell_type": "code",
   "execution_count": null,
   "metadata": {
    "collapsed": true
   },
   "outputs": [],
   "source": []
  }
 ],
 "metadata": {
  "anaconda-cloud": {},
  "kernelspec": {
   "display_name": "Python [default]",
   "language": "python",
   "name": "python3"
  },
  "language_info": {
   "codemirror_mode": {
    "name": "ipython",
    "version": 3
   },
   "file_extension": ".py",
   "mimetype": "text/x-python",
   "name": "python",
   "nbconvert_exporter": "python",
   "pygments_lexer": "ipython3",
   "version": "3.4.4"
  }
 },
 "nbformat": 4,
 "nbformat_minor": 0
}
